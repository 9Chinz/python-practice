{
 "cells": [
  {
   "cell_type": "markdown",
   "source": [
    "# OOP\r\n",
    "## Class\r\n",
    "- ## attribue\r\n",
    "- ## method\r\n",
    "\r\n",
    "# Class\r\n",
    "เป็นต้นแบบที่จะเอาไปสร้างเป็น object\r\n",
    "class is a blueprint"
   ],
   "metadata": {}
  },
  {
   "cell_type": "markdown",
   "source": [
    "## การเขียน class มักขึ้นต้นด้วยพิมพ์ใหญ่ (Pascal case)"
   ],
   "metadata": {}
  },
  {
   "cell_type": "code",
   "execution_count": null,
   "source": [
    "class User:\r\n",
    "    pass"
   ],
   "outputs": [],
   "metadata": {}
  },
  {
   "cell_type": "markdown",
   "source": [
    "## แบบนี้ไม่แนะนำ"
   ],
   "metadata": {}
  },
  {
   "cell_type": "code",
   "execution_count": 2,
   "source": [
    "class User:\r\n",
    "    pass\r\n",
    "\r\n",
    "user_1 = User()\r\n",
    "user_1.id = '001'\r\n",
    "user_1.name = 'chinz'\r\n",
    "\r\n",
    "print(user_1.id, user_1.name)"
   ],
   "outputs": [
    {
     "output_type": "stream",
     "name": "stdout",
     "text": [
      "001 chinz\n"
     ]
    }
   ],
   "metadata": {}
  },
  {
   "cell_type": "markdown",
   "source": [
    "## constructor\r\n",
    "\r\n",
    "function __init__\r\n",
    "เป็น function ที่จะถูกเรียกเมื่อสร้าง obj จาก class"
   ],
   "metadata": {}
  },
  {
   "cell_type": "code",
   "execution_count": 4,
   "source": [
    "class User:\r\n",
    "    #! Constructor\r\n",
    "    def __init__(self):\r\n",
    "        print(\"new student has created!\")\r\n",
    "\r\n",
    "user_2 = User()\r\n",
    "user_2.id = '002'\r\n",
    "user_2.name = 'Lim'\r\n",
    "\r\n",
    "print(user_2.id, user_2.name)"
   ],
   "outputs": [
    {
     "output_type": "stream",
     "name": "stdout",
     "text": [
      "new student has created!\n",
      "002 Lim\n"
     ]
    }
   ],
   "metadata": {}
  },
  {
   "cell_type": "markdown",
   "source": [
    "## Method \r\n"
   ],
   "metadata": {}
  },
  {
   "cell_type": "code",
   "execution_count": 16,
   "source": [
    "class Student:\r\n",
    "    def __init__(self, student_id, student_name):\r\n",
    "        self.student_id = student_id\r\n",
    "        self.student_name = student_name\r\n",
    "        self.year = 1\r\n",
    "        self.peer_mentor = 0\r\n",
    "        self.peer_menteer = 0\r\n",
    "    \r\n",
    "    def upgrade(self):\r\n",
    "        self.year += 1\r\n",
    "    \r\n",
    "    #! สามารถส่ง object มาใน param ได้\r\n",
    "    def set_mentor(self, student):\r\n",
    "        self.peer_mentor = student\r\n",
    "        student.peer_menteer = self\r\n",
    "\r\n",
    "std_1 = Student('64015030', 'Chin')\r\n",
    "print(std_1.student_id, std_1.student_name, std_1.year)\r\n",
    "std_1.upgrade()\r\n",
    "print(std_1.student_id, std_1.student_name, std_1.year)\r\n",
    "std_2 = Student('63005320', 'ire')\r\n",
    "std_1.set_mentor(std_2)\r\n",
    "print(f\"พี่รหัสของ {std_1.student_name} คือ {std_1.peer_mentor.student_name}\")\r\n",
    "print(f\"น้องรหัสของ {std_2.student_name} คือ {std_2.peer_menteer.student_name}\")\r\n"
   ],
   "outputs": [
    {
     "output_type": "stream",
     "name": "stdout",
     "text": [
      "64015030 Chin 1\n",
      "64015030 Chin 2\n",
      "พี่รหัสของ Chin คือ ire\n",
      "น้องรหัสของ ire คือ Chin\n"
     ]
    }
   ],
   "metadata": {}
  },
  {
   "cell_type": "code",
   "execution_count": 2,
   "source": [
    "\r\n",
    "#! special Method ต่างๆ\r\n",
    "#! __str__ method ที่ถูกเรียกเมื่องใช้ print กับ object\r\n",
    "#! method __lt__ใช้เปรียบเทียบ object\r\n",
    "\r\n",
    "# คลาส Book สร้างอ็อบเจกต์ที่เก็บข้อมูลของหนังสือ (ชื่อ ราคา ของหนังสือ)\r\n",
    "class Book:\r\n",
    "    def __init__(self, title, price, author):\r\n",
    "        self.title = title\r\n",
    "        self.price = price\r\n",
    "        self.author = author\r\n",
    "\r\n",
    "    def __str__(self):\r\n",
    "        return self.title + \" ราคา \" + str(self.price) + \" บาท\"\r\n",
    "\r\n",
    "    def update_price(self, new_price):\r\n",
    "        self.price = new_price\r\n",
    "\r\n",
    "    # method __lt__ใช้เปรียบเทียบ object\r\n",
    "    def __lt__(self, rhs):\r\n",
    "        if self.price != rhs.price:\r\n",
    "            return self.price < rhs.price\r\n",
    "        else:\r\n",
    "            return self.title < rhs.title\r\n",
    "\r\n",
    "\r\n",
    "# เมื่อใช้ print กับ object จะเป็นการเรียกใช้ method __str__\r\n",
    "\r\n",
    "book1 = Book(\"Harry Potter\", 395, \"J.K. Rowling\")\r\n",
    "print(book1)\r\n",
    "\r\n",
    "# ลองใช้ __lt__ ในการเปรียบเทียบ\r\n",
    "\r\n",
    "book2 = Book(\"พระอภัยมณี\", 355, \"สุนทรภู่\")\r\n",
    "\r\n",
    "print(book1 > book2)\r\n",
    "print(book2 > book1)"
   ],
   "outputs": [
    {
     "output_type": "stream",
     "name": "stdout",
     "text": [
      "Harry Potter ราคา 395 บาท\n",
      "True\n",
      "False\n"
     ]
    }
   ],
   "metadata": {}
  }
 ],
 "metadata": {
  "orig_nbformat": 4,
  "language_info": {
   "name": "python",
   "version": "3.9.1",
   "mimetype": "text/x-python",
   "codemirror_mode": {
    "name": "ipython",
    "version": 3
   },
   "pygments_lexer": "ipython3",
   "nbconvert_exporter": "python",
   "file_extension": ".py"
  },
  "kernelspec": {
   "name": "python3",
   "display_name": "Python 3.9.1 64-bit"
  },
  "interpreter": {
   "hash": "ac59ebe37160ed0dfa835113d9b8498d9f09ceb179beaac4002f036b9467c963"
  }
 },
 "nbformat": 4,
 "nbformat_minor": 2
}
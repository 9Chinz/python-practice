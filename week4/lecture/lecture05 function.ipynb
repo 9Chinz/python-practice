{
 "cells": [
  {
   "cell_type": "code",
   "execution_count": null,
   "source": [
    "print('abc')\r\n",
    "len('abc')"
   ],
   "outputs": [],
   "metadata": {}
  },
  {
   "cell_type": "code",
   "execution_count": null,
   "source": [
    "#-----------------------------------------------------------------------------\r\n",
    "#* แต่เราก็สามารถสร้าง User defined function ขึ้นใช้เองได้\r\n",
    "#* def function_name(parameters):\r\n",
    "#*      docstring\r\n",
    "#*      statement(s)\r\n",
    "#*      return x\r\n",
    "#-----------------------------------------------------------------------------\r\n",
    "\r\n",
    "def hello(name):\r\n",
    "    # code ที่อยู่ใน function ต้อง indent \r\n",
    "    \"\"\"\r\n",
    "    * Function to print ส่วนนี้เรียกว่า docstring เอาไว้อธิบายการทำงานของ function\r\n",
    "    \"\"\"\r\n",
    "    print (\"Good afternoon, \" + name)\r\n",
    "\r\n",
    "hello(\"John\")\r\n",
    "hello(\"Bob\")"
   ],
   "outputs": [],
   "metadata": {}
  },
  {
   "cell_type": "code",
   "execution_count": null,
   "source": [
    "\r\n",
    "#---------------------------------------------------\r\n",
    "#*ในการส่งค่ากลับ สามารถใช้ return \r\n",
    "#---------------------------------------------------\\\r\n",
    "\r\n",
    "def is_even(n):\r\n",
    "    if (n%2==0):\r\n",
    "        return True\r\n",
    "    else:\r\n",
    "        return False\r\n",
    "\r\n",
    "#---------------------------------------------------\r\n",
    "#*| Ex 5.1 ถ้าจะทำฟังก์ชัน is_ood() ควรเขียนแบบใด\r\n",
    "#---------------------------------------------------\r\n",
    "def is_odd(n):\r\n",
    "    return not(is_even(n))\r\n",
    "\r\n",
    "is_odd(3)"
   ],
   "outputs": [],
   "metadata": {}
  },
  {
   "cell_type": "code",
   "execution_count": null,
   "source": [
    "\r\n",
    "#*สามารถเขียนได้อีกแบบ\r\n",
    "def is_even(n): return True if n%2==0 else False"
   ],
   "outputs": [],
   "metadata": {}
  },
  {
   "cell_type": "code",
   "execution_count": null,
   "source": [
    "#| Ex 5.2 จงเขียน Function absolute value\r\n",
    "\r\n",
    "def abs(n): return (-1*n) if n<0 else n\r\n",
    "\r\n",
    "print(f\"{abs(-3)} {abs(4)}\")"
   ],
   "outputs": [],
   "metadata": {}
  },
  {
   "cell_type": "code",
   "execution_count": null,
   "source": [
    "def is_square(n):\r\n",
    "    for i in range(n):\r\n",
    "        if (n==i*i):\r\n",
    "            return True\r\n",
    "    return False\r\n",
    "\r\n",
    "print(is_square(24))"
   ],
   "outputs": [],
   "metadata": {}
  },
  {
   "cell_type": "code",
   "execution_count": null,
   "source": [
    "\r\n",
    "#---------------------------------------------------\r\n",
    "#* บางกรณีต้องมีการ Return หลายค่า \r\n",
    "#* เช่น จะเขียนโปรแกรมที่ใส่จำนวนเงิน \r\n",
    "#* แล้ว Return มูลค่าสินค้า กับ ภาษีมูลค่าเพิ่ม\r\n",
    "#* [] list\r\n",
    "#* () tuple ข้อมูลที่แก้ไขไม่ได้ เพิ่มได้ ลบออกไม่ได้\r\n",
    "#---------------------------------------------------\r\n",
    "\r\n",
    "def price_with_vat(amount):\r\n",
    "    vat = amount * 7 / 107  # 107  * 7 /107\r\n",
    "    price = amount - vat\r\n",
    "    return price, vat\r\n",
    "\r\n",
    "print(price_with_vat(107))\r\n",
    "p, v = price_with_vat(214)\r\n",
    "print(\"p = \", p)\r\n",
    "print(\"v = \", v)"
   ],
   "outputs": [],
   "metadata": {}
  },
  {
   "cell_type": "code",
   "execution_count": 6,
   "source": [
    "def alpha(a, b):\r\n",
    "    c = a + b\r\n",
    "    print(c)\r\n",
    "\r\n",
    "alpha(5, 3)\r\n",
    "alpha(\"rain\", \"bow\")\r\n",
    "\r\n",
    "#* จะเห็นว่าสามารถทำงานได้ทั้ง 2 แบบ เรียกว่า dynamic type"
   ],
   "outputs": [
    {
     "output_type": "stream",
     "name": "stdout",
     "text": [
      "8\n",
      "rainbow\n"
     ]
    }
   ],
   "metadata": {}
  },
  {
   "cell_type": "code",
   "execution_count": 9,
   "source": [
    "def price_with_vat2(amount, vat_rate):\r\n",
    "    vat = amount * vat_rate / (100+vat_rate)  # 107  * 7 /107\r\n",
    "    price = amount - vat\r\n",
    "    return price, vat\r\n",
    "\r\n",
    "#---------------------------------------------------\r\n",
    "#* ในกรณีที่มี parameter หลายตัว มีความเป็นไปได้ว่าอาจใส่สลับกันมา\r\n",
    "#* เพื่อป้องกันไม่ให้ใส่สลับกันจึงสามารถระบุชื่อตัวแปรตอนเรียกได้เลย\r\n",
    "#---------------------------------------------------\r\n",
    "\r\n",
    "print(price_with_vat2(amount=107, vat_rate=7))\r\n",
    "print(price_with_vat2(vat_rate=7, amount=107))"
   ],
   "outputs": [
    {
     "output_type": "stream",
     "name": "stdout",
     "text": [
      "(100.0, 7.0)\n",
      "(100.0, 7.0)\n"
     ]
    }
   ],
   "metadata": {}
  },
  {
   "cell_type": "code",
   "execution_count": 13,
   "source": [
    "def print_hello(name):\r\n",
    "    print(f\"Hello {name}\")\r\n",
    "\r\n",
    "print_hello(name=1)\r\n",
    "print_hello(name='chinz')\r\n",
    "print_hello(name=\"lim\")"
   ],
   "outputs": [
    {
     "output_type": "stream",
     "name": "stdout",
     "text": [
      "Hello 1\n",
      "Hello chinz\n",
      "Hello lim\n"
     ]
    }
   ],
   "metadata": {}
  },
  {
   "cell_type": "code",
   "execution_count": null,
   "source": [
    "# https://docs.python.org/3/library/functions.html"
   ],
   "outputs": [],
   "metadata": {}
  }
 ],
 "metadata": {
  "orig_nbformat": 4,
  "language_info": {
   "name": "python",
   "version": "3.9.1",
   "mimetype": "text/x-python",
   "codemirror_mode": {
    "name": "ipython",
    "version": 3
   },
   "pygments_lexer": "ipython3",
   "nbconvert_exporter": "python",
   "file_extension": ".py"
  },
  "kernelspec": {
   "name": "python3",
   "display_name": "Python 3.9.1 64-bit"
  },
  "interpreter": {
   "hash": "ac59ebe37160ed0dfa835113d9b8498d9f09ceb179beaac4002f036b9467c963"
  }
 },
 "nbformat": 4,
 "nbformat_minor": 2
}
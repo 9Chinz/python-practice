{
 "cells": [
  {
   "cell_type": "code",
   "execution_count": 4,
   "source": [
    "\r\n",
    "#---------------------------------------------------\r\n",
    "#* ในขณะที่ list เป็นโครงสร้างข้อมูลที่อ้างอิงโดย Index\r\n",
    "#* เป็นโครงสร้างข้อมูล ในลักษณะของการจับคู่ ซึ่งอ้างอิงโดย Key\r\n",
    "#* การใช้งานจะเป็นรูปแบบ {key : value, key : value}\r\n",
    "#---------------------------------------------------\r\n",
    "\r\n",
    "scores = {'james': 1828, 'thomas': 3628, 'danny': 9310}\r\n",
    "\r\n",
    "#---------------------------------------------------\r\n",
    "#* การเพิ่มข้อมูล จะระบุด้วย key\r\n",
    "#---------------------------------------------------\r\n",
    "scores['bobby'] = 4401\r\n",
    "\r\n",
    "#---------------------------------------------------\r\n",
    "#* การแสดงผล ใช้ key เป็นตัวอ้างอิง\r\n",
    "#---------------------------------------------------\r\n",
    "print('james =>', scores['james'])\r\n",
    "print('thomas =>', scores['thomas'])\r\n",
    "print(scores)"
   ],
   "outputs": [
    {
     "output_type": "stream",
     "name": "stdout",
     "text": [
      "james => 1828\n",
      "thomas => 3628\n",
      "{'james': 1828, 'thomas': 3628, 'danny': 9310, 'bobby': 4401}\n"
     ]
    }
   ],
   "metadata": {}
  },
  {
   "cell_type": "code",
   "execution_count": 5,
   "source": [
    "#---------------------------------------------------\r\n",
    "#* กรณีที่ Value มีหลายจำนวน อาจใช้ Value เป็น List ได้\r\n",
    "#---------------------------------------------------\r\n",
    "\r\n",
    "std_info = {62001: [\"Somsri Medee\", 23, \"4 Jun 2000\", \"somsri@gmail.com\",\"066-12345678\"],\r\n",
    "                62002: [\"Somchai Madee\", 24, \"29 Feb 2000\", \"somchai@gmail.com\",\"066-23456789\"], \r\n",
    "           }\r\n",
    "\r\n",
    "print(std_info)\r\n",
    "print(std_info[62001])\r\n",
    "print(std_info[62001][2])      # อ้างถึง \"4 Jun 2000\"\r\n",
    "\r\n",
    "#---------------------------------------------------\r\n",
    "#* สามารถอ้างถึงแต่ละส่วนได้ ทั้ง keys และ value \r\n",
    "#---------------------------------------------------\r\n",
    "\r\n",
    "print(std_info[62001])\r\n",
    "print(std_info.keys())\r\n",
    "print(std_info.values())"
   ],
   "outputs": [
    {
     "output_type": "stream",
     "name": "stdout",
     "text": [
      "{62001: ['Somsri Medee', 23, '4 Jun 2000', 'somsri@gmail.com', '066-12345678'], 62002: ['Somchai Madee', 24, '29 Feb 2000', 'somchai@gmail.com', '066-23456789']}\n",
      "['Somsri Medee', 23, '4 Jun 2000', 'somsri@gmail.com', '066-12345678']\n",
      "4 Jun 2000\n",
      "['Somsri Medee', 23, '4 Jun 2000', 'somsri@gmail.com', '066-12345678']\n",
      "dict_keys([62001, 62002])\n",
      "dict_values([['Somsri Medee', 23, '4 Jun 2000', 'somsri@gmail.com', '066-12345678'], ['Somchai Madee', 24, '29 Feb 2000', 'somchai@gmail.com', '066-23456789']])\n"
     ]
    }
   ],
   "metadata": {}
  },
  {
   "cell_type": "code",
   "execution_count": 10,
   "source": [
    "#---------------------------------------------------\r\n",
    "#* Dictionary สามารถใช้กับ for loop ได้ \r\n",
    "#---------------------------------------------------\r\n",
    "\r\n",
    "countries = {'de': 'Germany', 'ua': 'Ukraine',\r\n",
    "             'th': 'Thailand', 'nl': 'Netherlands'}\r\n",
    "\r\n",
    "for i in countries:\r\n",
    "    print(i)"
   ],
   "outputs": [
    {
     "output_type": "stream",
     "name": "stdout",
     "text": [
      "de\n",
      "ua\n",
      "th\n",
      "nl\n"
     ]
    }
   ],
   "metadata": {}
  },
  {
   "cell_type": "code",
   "execution_count": 11,
   "source": [
    "countries = {'de': 'Germany', 'ua': 'Ukraine', 'th': 'Thailand', 'nl': 'Netherlands'}\r\n",
    "\r\n",
    "for k, v in countries.items():\r\n",
    "    print(k, v)"
   ],
   "outputs": [
    {
     "output_type": "stream",
     "name": "stdout",
     "text": [
      "de Germany\n",
      "ua Ukraine\n",
      "th Thailand\n",
      "nl Netherlands\n"
     ]
    }
   ],
   "metadata": {}
  },
  {
   "cell_type": "code",
   "execution_count": 12,
   "source": [
    "countries = {'de': 'Germany', 'ua': 'Ukraine',\r\n",
    "             'th': 'Thailand', 'nl': 'Netherlands'}\r\n",
    "\r\n",
    "# iterate through keys\r\n",
    "print('Key:', end = ' ')\r\n",
    "for k in countries.keys():\r\n",
    "    print(k, end = ' ')"
   ],
   "outputs": [
    {
     "output_type": "stream",
     "name": "stdout",
     "text": [
      "Key: de ua th nl "
     ]
    }
   ],
   "metadata": {}
  },
  {
   "cell_type": "code",
   "execution_count": 13,
   "source": [
    "countries = {'de': 'Germany', 'ua': 'Ukraine',\r\n",
    "             'th': 'Thailand', 'nl': 'Netherlands'}\r\n",
    "             \r\n",
    "# iterate through values\r\n",
    "print('\\nValue:', end = ' ')\r\n",
    "for v in countries.values():\r\n",
    "    print(v, end = ' ')"
   ],
   "outputs": [
    {
     "output_type": "stream",
     "name": "stdout",
     "text": [
      "\n",
      "Value: Germany Ukraine Thailand Netherlands "
     ]
    }
   ],
   "metadata": {}
  },
  {
   "cell_type": "code",
   "execution_count": 16,
   "source": [
    "\r\n",
    "### Example การรับข้อมูลเข้าสู่ Dictionary\r\n",
    "\r\n",
    "num = int(input(\"Enter the number of students:\"))\r\n",
    "dic = {}\r\n",
    "while num > 0:\r\n",
    "    idx = input(\"Enter your ID:\")\r\n",
    "    name = input(\"Enter your name:\")\r\n",
    "    age = input(\"Enter your age:\")\r\n",
    "    dic[idx] = [name, age]\r\n",
    "    num = num - 1\r\n",
    "#print all student members\r\n",
    "print(dic)\r\n",
    "#print each student member\r\n",
    "for data in dic:\r\n",
    "    print(dic[data])"
   ],
   "outputs": [
    {
     "output_type": "stream",
     "name": "stdout",
     "text": [
      "{'640': ['chin', '20'], '641': ['lim', '22']}\n",
      "['chin', '20']\n",
      "['lim', '22']\n"
     ]
    }
   ],
   "metadata": {}
  },
  {
   "cell_type": "code",
   "execution_count": 19,
   "source": [
    "# การค้นหาใน dictionary\r\n",
    "\r\n",
    "dic = {\"10110\":\"เขตคลองเตย\", \"50000\":\"อำเภอเมืองเชียงใหม่\", \"21000\":\"อำเภอเมืองระยอง\", \"40000\":\"อำเภอเมืองขอนแก่น\", \"83000\":\"อำเภอเมืองภูเก็ต\"}\r\n",
    "amphor = input(\"Enter your the code of amphor that would like to find :\")\r\n",
    "while amphor != \"exit\":\r\n",
    "    if dic[amphor]:\r\n",
    "        print(\"Name of this code is \", dic[amphor])\r\n",
    "    else:\r\n",
    "        print(\"This code is not in the database\")\r\n",
    "    amphor = input(\"Enter your the code of amphor that would like to find :\")\r\n",
    "print(\"Good bye...\")"
   ],
   "outputs": [
    {
     "output_type": "stream",
     "name": "stdout",
     "text": [
      "Name of this code is  เขตคลองเตย\n",
      "Good bye...\n"
     ]
    }
   ],
   "metadata": {}
  }
 ],
 "metadata": {
  "orig_nbformat": 4,
  "language_info": {
   "name": "python",
   "version": "3.9.1",
   "mimetype": "text/x-python",
   "codemirror_mode": {
    "name": "ipython",
    "version": 3
   },
   "pygments_lexer": "ipython3",
   "nbconvert_exporter": "python",
   "file_extension": ".py"
  },
  "kernelspec": {
   "name": "python3",
   "display_name": "Python 3.9.1 64-bit"
  },
  "interpreter": {
   "hash": "ac59ebe37160ed0dfa835113d9b8498d9f09ceb179beaac4002f036b9467c963"
  }
 },
 "nbformat": 4,
 "nbformat_minor": 2
}
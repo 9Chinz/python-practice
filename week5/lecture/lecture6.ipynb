{
 "cells": [
  {
   "cell_type": "markdown",
   "source": [
    "# scope of variable and function"
   ],
   "metadata": {}
  },
  {
   "cell_type": "code",
   "execution_count": null,
   "source": [
    "#------------------------------------\r\n",
    "# เมื่อมีการใช้ function ปัญหาหนึ่งอาจเกิดขึ้น คือ\r\n",
    "# Scope\r\n",
    "#---------------------------------------\r\n",
    "\r\n",
    "#| Example 1: Single Definition\r\n",
    "\r\n",
    "x = 'global'\r\n",
    "def f():\r\n",
    "    def g():\r\n",
    "        print(x)\r\n",
    "    g()\r\n",
    "\r\n",
    "f()"
   ],
   "outputs": [],
   "metadata": {}
  },
  {
   "cell_type": "code",
   "execution_count": null,
   "source": [
    "# Example 2: Double Definition มีการกำหนดตัวแปร x 2 ที่  \r\n",
    "# จะ print ค่าใด \r\n",
    "\r\n",
    "x = 'global'\r\n",
    "def f():\r\n",
    "    x = 'enclosing'\r\n",
    "\r\n",
    "    def g():\r\n",
    "        print(x)\r\n",
    "\r\n",
    "    g()\r\n",
    "\r\n",
    "f()"
   ],
   "outputs": [],
   "metadata": {}
  },
  {
   "cell_type": "code",
   "execution_count": null,
   "source": [
    "#| Example 3: Triple Definition มีการกำหนดตัวแปร x 3 ที่ \r\n",
    "# จะ print ค่าใด \r\n",
    "\r\n",
    "x = 'global'\r\n",
    "def f():\r\n",
    "    x = 'enclosing'\r\n",
    "    def g():\r\n",
    "        x = 'local'\r\n",
    "        print(x)\r\n",
    "    g()\r\n",
    "f()"
   ],
   "outputs": [],
   "metadata": {}
  },
  {
   "cell_type": "code",
   "execution_count": null,
   "source": [
    "#| Example 4: No Definition ไม่ได้กำหนดตัวแปร x\r\n",
    "\r\n",
    "def f():\r\n",
    "    def g():\r\n",
    "        print(x)\r\n",
    "    g()\r\n",
    "f()"
   ],
   "outputs": [],
   "metadata": {}
  },
  {
   "cell_type": "markdown",
   "source": [
    "\r\n",
    "# LEGB\r\n",
    "* Local: ถ้าตัวแปร x อยู่ภายใน function โปรแกรม python จะใช้ตัวแปรใน function (local)\r\n",
    "* Enclosing: ถ้าตัวแปร x ไม่อยู่ใน local scope แต่พบใน function ที่อยู่ใน function ด้านนอก (Enclosing),โปรแกรม python จะใช้ในตัวแปรใน enclosing function’s scope.\r\n",
    "* Global: ถ้าตัวแปร x ไม่อยู่ทั้งใน local scope และ enclosing function’s scope โปรแกรม python จะค้นหาใน global เป็นลำดับต่อไป\r\n",
    "* Built-in: ถ้าไม่พบตัวแปร x ในที่ใดๆ โปรแกรม python จะพยายามหาใน built-in scope"
   ],
   "metadata": {}
  },
  {
   "cell_type": "code",
   "execution_count": null,
   "source": [
    "def f():\r\n",
    "    print('Start f()')\r\n",
    "    def g():\r\n",
    "        print('Start g()')\r\n",
    "        print('End g()')\r\n",
    "        return\r\n",
    "    g()\r\n",
    "    print('End f()')\r\n",
    "    return\r\n",
    "\r\n",
    "f()"
   ],
   "outputs": [],
   "metadata": {}
  },
  {
   "cell_type": "code",
   "execution_count": null,
   "source": [
    "def square(base):\r\n",
    "    result = base ** 2\r\n",
    "    print(f'The square of {base} is: {result}')\r\n",
    "\r\n",
    "square(10)"
   ],
   "outputs": [],
   "metadata": {}
  },
  {
   "cell_type": "code",
   "execution_count": null,
   "source": [
    "\r\n",
    "#| Example 7: ขอบเขตของตัวแปรแบบ local มีแค่ใน function ทำให้ใช้ซ้ำได้\r\n",
    "\r\n",
    "def square(base):\r\n",
    "    result = base ** 2\r\n",
    "    print(f'The square of {base} is: {result}')\r\n",
    "\r\n",
    "square(10)\r\n",
    "\r\n",
    "def cube(base):\r\n",
    "    result = base ** 3\r\n",
    "    print(f'The cube of {base} is: {result}')\r\n",
    "cube(30)"
   ],
   "outputs": [],
   "metadata": {}
  },
  {
   "cell_type": "code",
   "execution_count": null,
   "source": [
    "\r\n",
    "#| Example 8: หากแก้ไขตัวแปรแบบ global ใน function จะเกิดอะไรขึ้น \r\n",
    "var = 100  # A global variable\r\n",
    "def increment():\r\n",
    "    # ! global var\r\n",
    "    var = var + 1  # Try to update a global variable\r\n",
    "\r\n",
    "increment()\r\n",
    "print(var)"
   ],
   "outputs": [],
   "metadata": {}
  },
  {
   "cell_type": "code",
   "execution_count": null,
   "source": [
    "#| Example 9: กรณีอ้างถึงตัวแปร และ กำหนดตัวแปร Local ภายหลัง\r\n",
    "\r\n",
    "var = 100  # A global variable\r\n",
    "def func():\r\n",
    "    print(var)  # Reference the global variable, var    \r\n",
    "    var = 200   # Define a new local variable using the same name, var    \r\n",
    "func()"
   ],
   "outputs": [],
   "metadata": {}
  },
  {
   "cell_type": "code",
   "execution_count": null,
   "source": [
    "#| Example 10: การอ้างถึงตัวแปร Global ภายใน function โดยใช้ keyword : global \r\n",
    "\r\n",
    "counter = 0  # A global name\r\n",
    "def update_counter():\r\n",
    "    global counter  # Declare counter as global\r\n",
    "    counter = counter + 1  # Successfully update the counter\r\n",
    "\r\n",
    "update_counter()\r\n",
    "print (counter)\r\n",
    "update_counter()\r\n",
    "print (counter)\r\n",
    "update_counter()\r\n",
    "print (counter)"
   ],
   "outputs": [],
   "metadata": {}
  },
  {
   "cell_type": "code",
   "execution_count": null,
   "source": [
    "#| Example 11: การแก้ไขตัวแปร global โดยใช้การส่งค่าและ return จาก function\r\n",
    "\r\n",
    "global_counter = 0  # A global name\r\n",
    "def update_counter(counter):\r\n",
    "    return counter + 1  # Rely on a local name\r\n",
    "\r\n",
    "global_counter = update_counter(global_counter)\r\n",
    "print (global_counter)\r\n",
    "global_counter = update_counter(global_counter)\r\n",
    "print (global_counter)\r\n",
    "global_counter = update_counter(global_counter)\r\n",
    "print (global_counter)"
   ],
   "outputs": [],
   "metadata": {}
  },
  {
   "cell_type": "code",
   "execution_count": null,
   "source": [
    "#| Example 12: การสร้างตัวแปร Global จากภายใน function\r\n",
    "\r\n",
    "def create_lazy_name():\r\n",
    "    global lazy  # Create a global name, lazy\r\n",
    "    lazy = 100\r\n",
    "    return lazy\r\n",
    "\r\n",
    "create_lazy_name()\r\n",
    "print(lazy)  # The name is now available in the global scope"
   ],
   "outputs": [],
   "metadata": {}
  },
  {
   "cell_type": "code",
   "execution_count": null,
   "source": [
    "#| Example 13: การแก้ไขตัวแปร Enclosing\r\n",
    "\r\n",
    "def func():\r\n",
    "    var = 100  # A nonlocal variable\r\n",
    "    def nested():\r\n",
    "        nonlocal var\r\n",
    "        var += 100\r\n",
    "    nested()\r\n",
    "    print(var)\r\n",
    "func()"
   ],
   "outputs": [],
   "metadata": {}
  },
  {
   "cell_type": "code",
   "execution_count": null,
   "source": [
    "#| Example 14: แสดงการส่งกลับเป็น function ภายใน ซึ่งเป็น local function \r\n",
    "\r\n",
    "def power_factory(exp):\r\n",
    "    def power(base):\r\n",
    "        return base ** exp\r\n",
    "    return power\r\n",
    "\r\n",
    "square = power_factory(2) #* square = def power(base) return base ** 2\r\n",
    "print(square(10)) #! power (10) return 10 ** 2 => 100\r\n",
    "\r\n",
    "cube = power_factory(3) #* cube = def power(base) return base ** 3\r\n",
    "print(cube(10)) #! power (10) return 10 ** 3 ==> 1000\r\n",
    "\r\n",
    "print(cube(5)) #! power (5) return 5 ** 3 ==> 1000\r\n",
    "print(square(15)) #! power (15) return 15 ** 3 ==> 1000"
   ],
   "outputs": [],
   "metadata": {}
  },
  {
   "cell_type": "code",
   "execution_count": null,
   "source": [
    "#| Example 15: แสดงการส่งกลับเป็น function ภายใน ซึ่งเป็น local function \r\n",
    "#| แสดงให้เห็นว่า number เป็น free variable สามารถเข้าถึงได้ในทุกระดับ \r\n",
    "#| จะเห็นว่ากรณีนี้ จะมีการเก็บข้อมูล sample เอาไว้ด้วย\r\n",
    "#| ซึ่งอาจทำให้สิ้นเปลืองหน่วยความจำ\r\n",
    "\r\n",
    "def mean():\r\n",
    "    sample = [] \r\n",
    "    def _mean(number):\r\n",
    "        sample.append(number)\r\n",
    "        return sum(sample) / len(sample)\r\n",
    "    return _mean\r\n",
    "\r\n",
    "current_mean = mean() # sample => global variable current_mean = _mean(number):  sample.append(number) return sum(sample) / len(sample)\r\n",
    "print(current_mean(10)) # current_mean(10) = _mean(10): sample.append(10) sample = [10] return 10 / 1\r\n",
    "\r\n",
    "print(current_mean(15)) # current_mean(15) = _mean(15): sample.append(15) sample = [10, 15] return 25 / 2\r\n",
    "\r\n",
    "print(current_mean(12)) # current_mean(12) = _mean(12): sample.append(12) sample = [10, 15, 12] return 37 / 3\r\n",
    "\r\n",
    "print(current_mean(11))\r\n",
    "\r\n",
    "print(current_mean(13))"
   ],
   "outputs": [],
   "metadata": {}
  },
  {
   "cell_type": "code",
   "execution_count": null,
   "source": [
    "\r\n",
    "#| Example 16: แสดง version ที่ไม่เก็บข้อมูล list \r\n",
    "\r\n",
    "def mean():\r\n",
    "    total = 0\r\n",
    "    length = 0\r\n",
    "    def _mean(number):\r\n",
    "        nonlocal total, length\r\n",
    "        total += number\r\n",
    "        length += 1\r\n",
    "        return total / length\r\n",
    "    return _mean\r\n",
    "current_mean = mean()\r\n",
    "print(current_mean(10))\r\n",
    "\r\n",
    "print(current_mean(15))\r\n",
    "\r\n",
    "print(current_mean(12))\r\n",
    "\r\n",
    "print(current_mean(11))\r\n",
    "\r\n",
    "print(current_mean(13))"
   ],
   "outputs": [],
   "metadata": {}
  }
 ],
 "metadata": {
  "orig_nbformat": 4,
  "language_info": {
   "name": "python",
   "version": "3.9.1",
   "mimetype": "text/x-python",
   "codemirror_mode": {
    "name": "ipython",
    "version": 3
   },
   "pygments_lexer": "ipython3",
   "nbconvert_exporter": "python",
   "file_extension": ".py"
  },
  "kernelspec": {
   "name": "python3",
   "display_name": "Python 3.9.1 64-bit"
  },
  "interpreter": {
   "hash": "ac59ebe37160ed0dfa835113d9b8498d9f09ceb179beaac4002f036b9467c963"
  }
 },
 "nbformat": 4,
 "nbformat_minor": 2
}
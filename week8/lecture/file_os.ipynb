{
 "cells": [
  {
   "cell_type": "markdown",
   "metadata": {},
   "source": [
    "# ---------------------------\n",
    "# การดำเนินเกี่ยวกับไฟล์\n",
    "# ประกอบด้วย 3 ขั้นตอนหลัก คือ 1) เปิดไฟล์ 2) ดำเนินการ 3) ปิดไฟล์\n",
    "\n",
    "# 1) เปิดไฟล์\n",
    "# file object = open(file_name [, access_mode][, buffering])\n",
    "# r     = เปิดไฟล์ที่มีอยู่แล้วเพื่ออ่านเพียงอย่างเดียว\n",
    "# r+    = เปิดไฟล์เพื่ออ่านและเขียน โดยที่ข้อมูลเก่ายังคงอยู่\n",
    "# w     = เปิดไฟล์เพื่อเขียน ถ้ามีไฟล์อยู่แล้ว ข้อมูลในไฟล์เดิมจะถูกเขียนทับ ถ้าไม่มีไฟล์อยู่ จะสร้างไฟล์ขึ้นใหม่\n",
    "# w+    = เปิดไฟล์เพื่ออ่านและเขียน ถ้ามีไฟล์อยู่แล้ว ข้อมูลในไฟล์เดิมจะถูกเขียนทับ ถ้าไม่มีไฟล์อยู่ จะสร้างไฟล์ขึ้นใหม่\n",
    "# a     = เปิดไฟล์เพื่อเขียนข้อมูลต่อท้าย ในกรณีที่มีไฟล์อยู่แล้วจะเขียนข้อมูลต่อ ถ้าไม่มีไฟล์อยู่ จะสร้างไฟล์ขึ้นใหม่\n",
    "\n",
    "# f = open(\"MyFile.txt\", \"w\")\n",
    "\n",
    "# 2) ดำเนินการ\n",
    "\n",
    "# f.read(n)        อ่านไฟล์ทั้งไฟล์ โดย n คือ จำนวนตัวอักษรที่ต้องการอ่าน ไม่กำหนดจะอ่านทั้งไฟล์\n",
    "# f.readline(n)    อ่านไฟล์ครัังละ 1 บรรทัด คือ อ่านจนถึง '\\n' : ไม่กำหนด n อ่าน 1 บรรทัด\n",
    "# f.readlines(n)   อ่านไฟล์หลายบรรทัด ส่งกลับเป็น list ของแต่ละบรรทัด\n",
    "\n",
    "# f.write()        เขียนไฟล์ 1 บรรทัด\n",
    "# f.write(str1)\n",
    "# f.writelines()   เขียนไฟล์หลายบรรทัด\n",
    "# f.writelines(L) for L = [str1, str2, str3]\n",
    "\n",
    "# f.seek(n)        เลื่อน file pointer ไปที่ n\n",
    "\n",
    "# 3) ปิดไฟล์\n",
    "# fileObject.close()\n",
    "\n",
    "# f.close()\n"
   ]
  },
  {
   "cell_type": "code",
   "execution_count": 52,
   "metadata": {},
   "outputs": [],
   "source": [
    "f = open(\"MyFile.txt\", \"w\")\n",
    "\n",
    "L = [\"This is Delhi \\n\", \"This is Paris \\n\", \"This is London \\n\"]\n",
    "f.write(\"Hello \\n\")\n",
    "f.writelines(L)\n",
    "f.close()"
   ]
  },
  {
   "cell_type": "code",
   "execution_count": 49,
   "metadata": {},
   "outputs": [
    {
     "name": "stdout",
     "output_type": "stream",
     "text": [
      "Hel\n",
      "ell\n"
     ]
    }
   ],
   "source": [
    "f = open(\"MyFile.txt\", \"r\")\n",
    "#? print(f.read(9)) อ่านเป็น byte\n",
    "#? print(f.readline(4)) อ่านเป็นบรรทัดเดียว สูงสุดกี่ตัว\n",
    "#? print(f.readlines())\n",
    "f.close()"
   ]
  },
  {
   "cell_type": "code",
   "execution_count": 53,
   "metadata": {},
   "outputs": [
    {
     "name": "stdout",
     "output_type": "stream",
     "text": [
      "Hello\n",
      "Habco\n"
     ]
    }
   ],
   "source": [
    "f = open(\"MyFile.txt\", \"r+\")\n",
    "\n",
    "print(f.read(5))\n",
    "f.seek(1)\n",
    "f.write(\"abc\")\n",
    "f.seek(0)\n",
    "print(f.read(5))"
   ]
  }
 ],
 "metadata": {
  "interpreter": {
   "hash": "ac59ebe37160ed0dfa835113d9b8498d9f09ceb179beaac4002f036b9467c963"
  },
  "kernelspec": {
   "display_name": "Python 3.9.1 64-bit",
   "name": "python3"
  },
  "language_info": {
   "codemirror_mode": {
    "name": "ipython",
    "version": 3
   },
   "file_extension": ".py",
   "mimetype": "text/x-python",
   "name": "python",
   "nbconvert_exporter": "python",
   "pygments_lexer": "ipython3",
   "version": "3.9.1"
  },
  "orig_nbformat": 4
 },
 "nbformat": 4,
 "nbformat_minor": 2
}

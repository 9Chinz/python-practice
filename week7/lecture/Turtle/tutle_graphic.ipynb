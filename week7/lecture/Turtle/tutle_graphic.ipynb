{
 "cells": [
  {
   "cell_type": "code",
   "execution_count": null,
   "metadata": {},
   "outputs": [],
   "source": [
    "from turtle import Turtle, Screen\n",
    "\n",
    "# https://docs.python.org/3/library/turtle.html\n",
    "# https://cs111.wellesley.edu/labs/lab01/colors\n",
    "\n",
    "tim = Turtle()\n",
    "print(tim)\n",
    "tim.shape(\"turtle\")\n",
    "tim.color(\"red\")\n",
    "\n",
    "my_screen = Screen()        # Construct object screen\n",
    "my_screen.canvheight = 300  # Attribute of object\n",
    "\n",
    "\n",
    "#TODO : หาวิธีสั่งให้ Turtle เคลื่อนที่ไป 100 pixel\n",
    "tim.forward(100)\n",
    "\n",
    "#TODO : สร้างเต่าอีกตัว ให้ move ไปข้างหลัง 100 pixel\n",
    "tim.backward(100)\n",
    "\n",
    "my_screen.exitonclick()     # Method (fn) of object"
   ]
  },
  {
   "cell_type": "code",
   "execution_count": null,
   "metadata": {},
   "outputs": [],
   "source": [
    "import turtle as t\n",
    "import random\n",
    "\n",
    "tim = t.Turtle()\n",
    "\n",
    "# TODO #########  - Draw Shapes ########\n",
    "\n",
    "colours = [\"CornflowerBlue\", \"DarkOrchid\", \"IndianRed\", \"DeepSkyBlue\", \"LightSeaGreen\", \"wheat\", \"SlateGray\",\n",
    "           \"SeaGreen\"]\n",
    "\n",
    "\n",
    "def draw_shape(num_sides):\n",
    "    angle = 360 / num_sides\n",
    "    for _ in range(num_sides):\n",
    "        tim.forward(100)\n",
    "        tim.right(angle)\n",
    "\n",
    "\n",
    "for shape_side_n in range(3, 10):\n",
    "    tim.color(random.choice(colours))\n",
    "    draw_shape(shape_side_n)\n",
    "\n",
    "t.Screen().exitonclick()"
   ]
  },
  {
   "cell_type": "code",
   "execution_count": null,
   "metadata": {},
   "outputs": [],
   "source": [
    "import turtle as t\n",
    "import random\n",
    "\n",
    "tim = t.Turtle()\n",
    "\n",
    "colours = [\"CornflowerBlue\", \"DarkOrchid\", \"IndianRed\", \"DeepSkyBlue\", \"LightSeaGreen\", \"wheat\", \"SlateGray\",\n",
    "           \"SeaGreen\"]\n",
    "directions = [0, 90, 180, 270]\n",
    "\n",
    "for _ in range(200):\n",
    "    tim.forward(30)\n",
    "    tim.setheading(random.choice(directions))\n",
    "\n",
    "t.Screen().exitonclick()"
   ]
  },
  {
   "cell_type": "code",
   "execution_count": null,
   "metadata": {},
   "outputs": [],
   "source": [
    "import turtle as t\n",
    "import random\n",
    "\n",
    "tim = t.Turtle()\n",
    "\n",
    "colours = [\"CornflowerBlue\", \"DarkOrchid\", \"IndianRed\", \"DeepSkyBlue\", \"LightSeaGreen\", \"wheat\", \"SlateGray\",\n",
    "           \"SeaGreen\"]\n",
    "directions = [0, 90, 180, 270]\n",
    "\n",
    "# TODO ปรับขนาดของเส้น และ ความหนา และ สี\n",
    "\n",
    "tim.pensize(15)\n",
    "tim.speed(\"fastest\")\n",
    "\n",
    "for _ in range(200):\n",
    "    tim.color(random.choice(colours))\n",
    "    tim.forward(30)\n",
    "    tim.setheading(random.choice(directions))\n",
    "\n",
    "t.Screen().exitonclick()"
   ]
  }
 ],
 "metadata": {
  "interpreter": {
   "hash": "ac59ebe37160ed0dfa835113d9b8498d9f09ceb179beaac4002f036b9467c963"
  },
  "kernelspec": {
   "display_name": "Python 3.9.1 64-bit",
   "name": "python3"
  },
  "language_info": {
   "codemirror_mode": {
    "name": "ipython",
    "version": 3
   },
   "file_extension": ".py",
   "mimetype": "text/x-python",
   "name": "python",
   "nbconvert_exporter": "python",
   "pygments_lexer": "ipython3",
   "version": "3.9.1"
  },
  "orig_nbformat": 4
 },
 "nbformat": 4,
 "nbformat_minor": 2
}
